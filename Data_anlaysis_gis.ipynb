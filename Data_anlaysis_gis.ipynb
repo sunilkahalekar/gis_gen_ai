{
  "nbformat": 4,
  "nbformat_minor": 0,
  "metadata": {
    "colab": {
      "provenance": []
    },
    "kernelspec": {
      "name": "python3",
      "display_name": "Python 3"
    },
    "language_info": {
      "name": "python"
    }
  },
  "cells": [
    {
      "cell_type": "code",
      "source": [
        "import zipfile\n",
        "import geopandas as gpd\n",
        "\n",
        "def analyze_zipped_shapefile(zip_path):\n",
        "    # Extract the first .shp file name from the zip\n",
        "    with zipfile.ZipFile(zip_path, 'r') as z:\n",
        "        shp_files = [f for f in z.namelist() if f.endswith('.shp')]\n",
        "        if not shp_files:\n",
        "            raise ValueError(\"No Shapefile found in the zip archive\")\n",
        "        shp_filename = shp_files[0]\n",
        "\n",
        "    # Read the Shapefile using GDAL's vsizip handler\n",
        "    gdf = gpd.read_file(f'/vsizip/{zip_path}/{shp_filename}')\n",
        "\n",
        "    # Data type analysis\n",
        "    print(\"=\" * 50)\n",
        "    print(\"Data Type Analysis:\")\n",
        "    print(\"=\" * 50)\n",
        "    print(\"\\nColumn Data Types:\")\n",
        "    print(gdf.dtypes)\n",
        "\n",
        "    # Dataset overview\n",
        "    print(\"\\n\" + \"=\" * 50)\n",
        "    print(\"Dataset Overview:\")\n",
        "    print(\"=\" * 50)\n",
        "    print(f\"Number of features: {len(gdf)}\")\n",
        "    print(f\"CRS: {gdf.crs}\")\n",
        "    print(f\"Geometry type: {gdf.geometry.type.unique()}\")\n",
        "\n",
        "    # Statistical summary\n",
        "    numeric_cols = gdf.select_dtypes(include=['number']).columns\n",
        "    if not numeric_cols.empty:\n",
        "        print(\"\\n\" + \"=\" * 50)\n",
        "        print(\"Numeric Columns Summary:\")\n",
        "        print(\"=\" * 50)\n",
        "        print(gdf[numeric_cols].describe())\n",
        "\n",
        "    # Sample data\n",
        "    print(\"\\n\" + \"=\" * 50)\n",
        "    print(\"First 3 Rows:\")\n",
        "    print(\"=\" * 50)\n",
        "    print(gdf.head(3))\n",
        "\n",
        "    return gdf\n",
        "\n",
        "# Usage example\n",
        "if __name__ == \"__main__\":\n",
        "    zip_file_path = \"/content/MAHARASHTRA_DISTRICT_BDY.zip\"  # Replace with your file path\n",
        "    try:\n",
        "        gdf = analyze_zipped_shapefile(zip_file_path)\n",
        "    except Exception as e:\n",
        "        print(f\"Error: {str(e)}\")"
      ],
      "metadata": {
        "id": "xsfhrZsMLWhm",
        "colab": {
          "base_uri": "https://localhost:8080/"
        },
        "outputId": "79d52a52-bd25-425c-b9cb-1fba1c45d910"
      },
      "execution_count": 1,
      "outputs": [
        {
          "output_type": "stream",
          "name": "stdout",
          "text": [
            "==================================================\n",
            "Data Type Analysis:\n",
            "==================================================\n",
            "\n",
            "Column Data Types:\n",
            "OBJECTID         int64\n",
            "STATE_LGD        int32\n",
            "DISTRICT        object\n",
            "STATE_UT        object\n",
            "Shape_Leng     float64\n",
            "Shape_Area     float64\n",
            "Dist_LGD        object\n",
            "geometry      geometry\n",
            "dtype: object\n",
            "\n",
            "==================================================\n",
            "Dataset Overview:\n",
            "==================================================\n",
            "Number of features: 36\n",
            "CRS: PROJCS[\"LCC_WGS84\",GEOGCS[\"WGS 84\",DATUM[\"WGS_1984\",SPHEROID[\"WGS 84\",6378137,298.257223563,AUTHORITY[\"EPSG\",\"7030\"]],AUTHORITY[\"EPSG\",\"6326\"]],PRIMEM[\"Greenwich\",0],UNIT[\"Degree\",0.0174532925199433]],PROJECTION[\"Lambert_Conformal_Conic_2SP\"],PARAMETER[\"latitude_of_origin\",24],PARAMETER[\"central_meridian\",80],PARAMETER[\"standard_parallel_1\",12.472944],PARAMETER[\"standard_parallel_2\",35.172806],PARAMETER[\"false_easting\",4000000],PARAMETER[\"false_northing\",4000000],UNIT[\"metre\",1,AUTHORITY[\"EPSG\",\"9001\"]],AXIS[\"Easting\",EAST],AXIS[\"Northing\",NORTH]]\n",
            "Geometry type: ['Polygon' 'MultiPolygon']\n",
            "\n",
            "==================================================\n",
            "Numeric Columns Summary:\n",
            "==================================================\n",
            "         OBJECTID  STATE_LGD    Shape_Leng    Shape_Area\n",
            "count   36.000000       36.0  3.600000e+01  3.600000e+01\n",
            "mean   536.500000       27.0  7.264753e+05  8.267997e+09\n",
            "std     10.535654        0.0  2.664582e+05  3.985480e+09\n",
            "min    519.000000       27.0  6.142298e+04  6.203386e+07\n",
            "25%    527.750000       27.0  5.869097e+05  5.206985e+09\n",
            "50%    536.500000       27.0  7.183080e+05  7.451991e+09\n",
            "75%    545.250000       27.0  9.217145e+05  1.044847e+10\n",
            "max    554.000000       27.0  1.364396e+06  1.655022e+10\n",
            "\n",
            "==================================================\n",
            "First 3 Rows:\n",
            "==================================================\n",
            "   OBJECTID  STATE_LGD    DISTRICT     STATE_UT    Shape_Leng    Shape_Area  \\\n",
            "0       519         27  AHMEDNAGAR  MAHARASHTRA  1.364396e+06  1.655022e+10   \n",
            "1       520         27        BEED  MAHARASHTRA  9.261352e+05  1.027263e+10   \n",
            "2       521         27    BHANDARA  MAHARASHTRA  5.110218e+05  3.991707e+09   \n",
            "\n",
            "  Dist_LGD                                           geometry  \n",
            "0      522  POLYGON Z ((3431193.893 3575967.753 0, 3431480...  \n",
            "1      523  POLYGON Z ((3536885.672 3509404.004 0, 3536952...  \n",
            "2      506  POLYGON Z ((3976471.385 3738515.144 0, 3976685...  \n"
          ]
        }
      ]
    },
    {
      "cell_type": "code",
      "source": [],
      "metadata": {
        "id": "fsRZgMDLqG0m"
      },
      "execution_count": null,
      "outputs": []
    }
  ]
}